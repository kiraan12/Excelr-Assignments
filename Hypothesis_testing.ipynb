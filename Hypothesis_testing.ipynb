{
  "nbformat": 4,
  "nbformat_minor": 0,
  "metadata": {
    "colab": {
      "provenance": []
    },
    "kernelspec": {
      "name": "python3",
      "display_name": "Python 3"
    },
    "language_info": {
      "name": "python"
    }
  },
  "cells": [
    {
      "cell_type": "markdown",
      "source": [
        "**Hypothesis Testing**"
      ],
      "metadata": {
        "id": "O2MGSstMkJwa"
      }
    },
    {
      "cell_type": "code",
      "execution_count": 1,
      "metadata": {
        "id": "GLFVAIlWkGRw"
      },
      "outputs": [],
      "source": [
        "import numpy as np\n",
        "from scipy.stats import t"
      ]
    },
    {
      "cell_type": "code",
      "source": [
        "## Given Data\n",
        "sample_mean= 3050\n",
        "theoritical_mean=1000+5*600\n",
        "standard_deviation=5*25\n",
        "sample_size=25\n",
        "alpha=0.05"
      ],
      "metadata": {
        "id": "XpUh5eDXkVa9"
      },
      "execution_count": 2,
      "outputs": []
    },
    {
      "cell_type": "markdown",
      "source": [
        "**TASK-1 State the Hypothesis Statement:**"
      ],
      "metadata": {
        "id": "084Y_ihhkzPH"
      }
    },
    {
      "cell_type": "markdown",
      "source": [
        "**Null Hypothesis (H₀): The weekly operating cost is consistent with the theoretical model (W = 1,000+\n",
        "5X). Alternative Hypothesis (H₁): The weekly operating cost is higher than the theoretical model.**"
      ],
      "metadata": {
        "id": "cuVbX5C8k98c"
      }
    },
    {
      "cell_type": "markdown",
      "source": [
        "**TASK-2 Calculate the Test Statistic**"
      ],
      "metadata": {
        "id": "3rRTdZZYlZqa"
      }
    },
    {
      "cell_type": "code",
      "source": [
        "## calculating t_statistics\n",
        "standard_error=standard_deviation/np.sqrt(sample_size)\n",
        "t_statistics=(sample_mean-theoritical_mean)/standard_error\n"
      ],
      "metadata": {
        "id": "wB5nW5x8krUQ"
      },
      "execution_count": 4,
      "outputs": []
    },
    {
      "cell_type": "code",
      "source": [
        "print(\"Standard Error\", standard_error)\n",
        "print(\"t_statistics\", t_statistics)"
      ],
      "metadata": {
        "colab": {
          "base_uri": "https://localhost:8080/"
        },
        "id": "ptDiEtkulsky",
        "outputId": "7a554895-654d-4091-eeaa-c503e99863e2"
      },
      "execution_count": 5,
      "outputs": [
        {
          "output_type": "stream",
          "name": "stdout",
          "text": [
            "Standard Error 25.0\n",
            "t_statistics -38.0\n"
          ]
        }
      ]
    },
    {
      "cell_type": "markdown",
      "source": [
        "**TASK-3 Determine the Critical Value**"
      ],
      "metadata": {
        "id": "tSIQQehyl11W"
      }
    },
    {
      "cell_type": "code",
      "source": [
        "dof=sample_size-1\n",
        "critical_value=t.ppf(1-alpha,dof)"
      ],
      "metadata": {
        "id": "H8C_e-Rsl014"
      },
      "execution_count": 6,
      "outputs": []
    },
    {
      "cell_type": "code",
      "source": [
        "critical_value"
      ],
      "metadata": {
        "colab": {
          "base_uri": "https://localhost:8080/"
        },
        "id": "bTV7ruf8mE6y",
        "outputId": "0d98884c-dcf1-47f3-ec46-6f922f72a285"
      },
      "execution_count": 7,
      "outputs": [
        {
          "output_type": "execute_result",
          "data": {
            "text/plain": [
              "np.float64(1.7108820799094275)"
            ]
          },
          "metadata": {},
          "execution_count": 7
        }
      ]
    },
    {
      "cell_type": "markdown",
      "source": [
        "**TASK-4 MAKE  a Decision**"
      ],
      "metadata": {
        "id": "FvI5TZTdmINY"
      }
    },
    {
      "cell_type": "code",
      "source": [
        "if t_statistics>critical_value:\n",
        "  print(\"Reject the null hypothesis\")\n",
        "else:\n",
        "  print(\"Fail to reject the null hypothesis\")"
      ],
      "metadata": {
        "colab": {
          "base_uri": "https://localhost:8080/"
        },
        "id": "VsSzs4YAmG_G",
        "outputId": "8374e0a9-5113-4050-83ff-32c962952442"
      },
      "execution_count": 8,
      "outputs": [
        {
          "output_type": "stream",
          "name": "stdout",
          "text": [
            "Fail to reject the null hypothesis\n"
          ]
        }
      ]
    },
    {
      "cell_type": "markdown",
      "source": [
        "**TASK-5 CONCLUSION**"
      ],
      "metadata": {
        "id": "tqkfqXS4mhNJ"
      }
    },
    {
      "cell_type": "markdown",
      "source": [
        "**Based on the decision in step 4, conclude whether there is strong evidence to support the restaurant owners' claim that the weekly operating costs are higher than the model suggests.**"
      ],
      "metadata": {
        "id": "kGvGXzUimneK"
      }
    },
    {
      "cell_type": "markdown",
      "source": [
        "**There is no strong evidence to support the restaurant owner**"
      ],
      "metadata": {
        "id": "Ubf2H20znQPY"
      }
    },
    {
      "cell_type": "code",
      "source": [],
      "metadata": {
        "id": "vhpAfATKmeMd"
      },
      "execution_count": null,
      "outputs": []
    }
  ]
}