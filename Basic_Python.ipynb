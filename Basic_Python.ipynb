{
  "nbformat": 4,
  "nbformat_minor": 0,
  "metadata": {
    "colab": {
      "provenance": []
    },
    "kernelspec": {
      "name": "python3",
      "display_name": "Python 3"
    },
    "language_info": {
      "name": "python"
    }
  },
  "cells": [
    {
      "cell_type": "markdown",
      "source": [
        "**Exercise 1: Prime Numbers**"
      ],
      "metadata": {
        "id": "49ChGBawRpIm"
      }
    },
    {
      "cell_type": "code",
      "execution_count": null,
      "metadata": {
        "id": "n99i2QtGRkXy"
      },
      "outputs": [],
      "source": [
        "def is_prime(number):\n",
        "  if number < 2:\n",
        "    return False\n",
        "  for i in range(2, int(number**0.5) + 1):\n",
        "    if number % i == 0:\n",
        "      return False\n",
        "  return True\n"
      ]
    },
    {
      "cell_type": "markdown",
      "source": [
        "**Excercise 2: Product of Random Numbers**"
      ],
      "metadata": {
        "id": "8B8ldZmTSKYp"
      }
    },
    {
      "cell_type": "code",
      "metadata": {
        "id": "af6cb39b",
        "outputId": "b9ee9f0e-c9a9-4d8d-b3bf-7aaa246b2980",
        "colab": {
          "base_uri": "https://localhost:8080/"
        }
      },
      "source": [
        "import random\n",
        "\n",
        "\n",
        "num1 = random.randint(1, 10)\n",
        "num2 = random.randint(1, 10)\n",
        "\n",
        "user_answer = int(input(f\"What is the product of {num1} and {num2}? \"))\n",
        "\n",
        "# Calculate the correct product\n",
        "correct_answer = num1 * num2\n",
        "\n",
        "# Check the user's answer and display a message\n",
        "if user_answer == correct_answer:\n",
        "  print(\"Correct!\")\n",
        "else:\n",
        "  print(f\"Incorrect. The correct answer is {correct_answer}.\")"
      ],
      "execution_count": null,
      "outputs": [
        {
          "output_type": "stream",
          "name": "stdout",
          "text": [
            "What is the product of 10 and 9? 2\n",
            "Incorrect. The correct answer is 90.\n"
          ]
        }
      ]
    },
    {
      "cell_type": "markdown",
      "source": [
        "**Exercise 3: Sqaures of Even or Odd Numbers**"
      ],
      "metadata": {
        "id": "tU2jua3-cnrg"
      }
    },
    {
      "cell_type": "code",
      "source": [
        "## sqaures of even numbers of the given range(100 to 200)\n",
        "for num in range(100,201):\n",
        "  if num % 2 == 0:\n",
        "    print(f\"The square of {num} is {num**2}\")"
      ],
      "metadata": {
        "id": "GtQGS-qmSYqO",
        "colab": {
          "base_uri": "https://localhost:8080/"
        },
        "outputId": "7b383340-05ab-4221-f8ea-e745ac6f60c1"
      },
      "execution_count": 1,
      "outputs": [
        {
          "output_type": "stream",
          "name": "stdout",
          "text": [
            "The square of 100 is 10000\n",
            "The square of 102 is 10404\n",
            "The square of 104 is 10816\n",
            "The square of 106 is 11236\n",
            "The square of 108 is 11664\n",
            "The square of 110 is 12100\n",
            "The square of 112 is 12544\n",
            "The square of 114 is 12996\n",
            "The square of 116 is 13456\n",
            "The square of 118 is 13924\n",
            "The square of 120 is 14400\n",
            "The square of 122 is 14884\n",
            "The square of 124 is 15376\n",
            "The square of 126 is 15876\n",
            "The square of 128 is 16384\n",
            "The square of 130 is 16900\n",
            "The square of 132 is 17424\n",
            "The square of 134 is 17956\n",
            "The square of 136 is 18496\n",
            "The square of 138 is 19044\n",
            "The square of 140 is 19600\n",
            "The square of 142 is 20164\n",
            "The square of 144 is 20736\n",
            "The square of 146 is 21316\n",
            "The square of 148 is 21904\n",
            "The square of 150 is 22500\n",
            "The square of 152 is 23104\n",
            "The square of 154 is 23716\n",
            "The square of 156 is 24336\n",
            "The square of 158 is 24964\n",
            "The square of 160 is 25600\n",
            "The square of 162 is 26244\n",
            "The square of 164 is 26896\n",
            "The square of 166 is 27556\n",
            "The square of 168 is 28224\n",
            "The square of 170 is 28900\n",
            "The square of 172 is 29584\n",
            "The square of 174 is 30276\n",
            "The square of 176 is 30976\n",
            "The square of 178 is 31684\n",
            "The square of 180 is 32400\n",
            "The square of 182 is 33124\n",
            "The square of 184 is 33856\n",
            "The square of 186 is 34596\n",
            "The square of 188 is 35344\n",
            "The square of 190 is 36100\n",
            "The square of 192 is 36864\n",
            "The square of 194 is 37636\n",
            "The square of 196 is 38416\n",
            "The square of 198 is 39204\n",
            "The square of 200 is 40000\n"
          ]
        }
      ]
    },
    {
      "cell_type": "markdown",
      "source": [
        "**Exercise 4: Word Counter**"
      ],
      "metadata": {
        "id": "eUgnN1STdIs9"
      }
    },
    {
      "cell_type": "code",
      "source": [
        "def word_count(input_text):\n",
        "  for char in \".,!?;:\":\n",
        "    input_text = input_text.replace(char, \"\")\n",
        "\n",
        "    counts=dict()\n",
        "    words = input_text.split()\n",
        "\n",
        "    for word in words:\n",
        "      if word in counts:\n",
        "        counts[word] += 1\n",
        "      else:\n",
        "        counts[word] = 1\n",
        "\n",
        "    return counts\n",
        "\n",
        "input_text=input(\" Enter the Sentences:\")\n",
        "word_count=word_count(input_text)\n",
        "for word, count in word_count.items():\n",
        "  print(f\"{word}: {count}\")"
      ],
      "metadata": {
        "colab": {
          "base_uri": "https://localhost:8080/"
        },
        "id": "KZJNVO4LdEFU",
        "outputId": "4379b062-2b80-4073-8395-6c27a136eea6"
      },
      "execution_count": 3,
      "outputs": [
        {
          "output_type": "stream",
          "name": "stdout",
          "text": [
            " Enter the Sentences:reasearch google variables\n",
            "reasearch: 1\n",
            "google: 1\n",
            "variables: 1\n"
          ]
        }
      ]
    },
    {
      "cell_type": "markdown",
      "source": [
        "**Exercise 5: Check for Palindrome**"
      ],
      "metadata": {
        "id": "lcH-HQUoeKPA"
      }
    },
    {
      "cell_type": "code",
      "source": [
        "def is_palindrome(text):\n",
        "  length=len(text)\n",
        "  for i in range(0,length//2):\n",
        "    if text[i] != text[length-i-1]:\n",
        "      return False\n",
        "  return True\n",
        "\n",
        "text=input(\"Enter the text:\")\n",
        "if is_palindrome(text):\n",
        "  print(f\"'{text}' is a palindrome.\")\n",
        "else:\n",
        "  print(f\"'{text}' is not a palindrome.\")"
      ],
      "metadata": {
        "colab": {
          "base_uri": "https://localhost:8080/"
        },
        "id": "QFJfZY1edYBX",
        "outputId": "a58a4cf1-4486-406d-d0e3-380957461899"
      },
      "execution_count": 6,
      "outputs": [
        {
          "output_type": "stream",
          "name": "stdout",
          "text": [
            "Enter the text:nan\n",
            "'nan' is a palindrome.\n"
          ]
        }
      ]
    },
    {
      "cell_type": "code",
      "source": [],
      "metadata": {
        "id": "87rgwawref3C"
      },
      "execution_count": null,
      "outputs": []
    }
  ]
}