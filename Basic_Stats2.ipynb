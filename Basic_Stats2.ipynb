{
  "nbformat": 4,
  "nbformat_minor": 0,
  "metadata": {
    "colab": {
      "provenance": []
    },
    "kernelspec": {
      "name": "python3",
      "display_name": "Python 3"
    },
    "language_info": {
      "name": "python"
    }
  },
  "cells": [
    {
      "cell_type": "code",
      "execution_count": 1,
      "metadata": {
        "id": "INxQm4NUggPq"
      },
      "outputs": [],
      "source": [
        "import numpy as np\n",
        "from scipy import stats"
      ]
    },
    {
      "cell_type": "code",
      "source": [
        "df=np.array([1.13, 1.55, 1.43, 0.92, 1.25, 1.36, 1.32, 0.85, 1.07, 1.48, 1.20, 1.33, 1.18, 1.22, 1.29])\n",
        "sample_mean=np.mean(df)\n",
        "sample_std=np.std(df)\n",
        "sample_size=len(df)"
      ],
      "metadata": {
        "id": "FCywShlKgn94"
      },
      "execution_count": 2,
      "outputs": []
    },
    {
      "cell_type": "code",
      "source": [
        "print(sample_mean)\n",
        "print(sample_std)\n",
        "print(sample_size)"
      ],
      "metadata": {
        "colab": {
          "base_uri": "https://localhost:8080/"
        },
        "id": "Wyw2aEUahJYT",
        "outputId": "103b35db-1d2e-4ffc-b661-0034add9510c"
      },
      "execution_count": 3,
      "outputs": [
        {
          "output_type": "stream",
          "name": "stdout",
          "text": [
            "1.2386666666666666\n",
            "0.18661427836285438\n",
            "15\n"
          ]
        }
      ]
    },
    {
      "cell_type": "markdown",
      "source": [
        "**a. Confidence interval using sample standard deviation.**"
      ],
      "metadata": {
        "id": "z57ucx3ohaG9"
      }
    },
    {
      "cell_type": "markdown",
      "source": [
        "**METHOD1: Using direct syntax for knowing the confidence intervals.**"
      ],
      "metadata": {
        "id": "CM47hJkthpHn"
      }
    },
    {
      "cell_type": "code",
      "source": [
        "## uisng t-distribution\n",
        "confidence_level=0.99\n",
        "dof=sample_size-1\n",
        "ss=sample_std/np.sqrt(sample_std)\n",
        "stats.t.interval(confidence_level,dof,sample_mean,ss)"
      ],
      "metadata": {
        "colab": {
          "base_uri": "https://localhost:8080/"
        },
        "id": "-vtcWIvvhX5g",
        "outputId": "5e37e9da-7e38-4fe6-9877-e2285f4067e5"
      },
      "execution_count": 4,
      "outputs": [
        {
          "output_type": "execute_result",
          "data": {
            "text/plain": [
              "(np.float64(-0.04729589902389897), np.float64(2.524629232357232))"
            ]
          },
          "metadata": {},
          "execution_count": 4
        }
      ]
    },
    {
      "cell_type": "markdown",
      "source": [
        "**METHOD2: Using formulas for knowing the confidence intervals.**"
      ],
      "metadata": {
        "id": "swfkO0EriIs2"
      }
    },
    {
      "cell_type": "code",
      "source": [
        "confidence_level=0.99\n",
        "alpha=1-confidence_level\n",
        "t_value=stats.t.ppf(1 - alpha/2, df=sample_size-1)\n",
        "margin_error=t_value*ss\n",
        "confidence_interval=(sample_mean-margin_error,sample_mean+margin_error)\n",
        "print(confidence_interval)\n"
      ],
      "metadata": {
        "colab": {
          "base_uri": "https://localhost:8080/"
        },
        "id": "bjB_g58kiDd9",
        "outputId": "0e6f7d22-f579-43e3-dae2-c2f57d03708a"
      },
      "execution_count": 5,
      "outputs": [
        {
          "output_type": "stream",
          "name": "stdout",
          "text": [
            "(np.float64(-0.04729589902389897), np.float64(2.524629232357232))\n"
          ]
        }
      ]
    },
    {
      "cell_type": "code",
      "source": [
        "print('Confidence interval using sample standrad deviation is:',confidence_interval)"
      ],
      "metadata": {
        "colab": {
          "base_uri": "https://localhost:8080/"
        },
        "id": "OsZp0TbSiuyT",
        "outputId": "bee58fe9-14d4-4a67-907c-7c1fbf4a598d"
      },
      "execution_count": 6,
      "outputs": [
        {
          "output_type": "stream",
          "name": "stdout",
          "text": [
            "Confidence interval using sample standrad deviation is: (np.float64(-0.04729589902389897), np.float64(2.524629232357232))\n"
          ]
        }
      ]
    },
    {
      "cell_type": "markdown",
      "source": [
        "**b. Confidence interval using known population standard deviation**"
      ],
      "metadata": {
        "id": "W9SxqfK1i8Bb"
      }
    },
    {
      "cell_type": "markdown",
      "source": [
        "**METHOD1:**"
      ],
      "metadata": {
        "id": "t4YqKTYwi_yD"
      }
    },
    {
      "cell_type": "code",
      "source": [
        "## using t-distribution\n",
        "population_std=0.2\n",
        "ps=population_std/np.sqrt(sample_size)\n",
        "stats.t.interval(confidence_level,dof,sample_mean,ps)"
      ],
      "metadata": {
        "colab": {
          "base_uri": "https://localhost:8080/"
        },
        "id": "N0nzf7-Mi6qB",
        "outputId": "01088e61-f72a-40bb-826c-540ddaf03ae3"
      },
      "execution_count": 7,
      "outputs": [
        {
          "output_type": "execute_result",
          "data": {
            "text/plain": [
              "(np.float64(1.0849431688733762), np.float64(1.392390164459957))"
            ]
          },
          "metadata": {},
          "execution_count": 7
        }
      ]
    },
    {
      "cell_type": "markdown",
      "source": [
        "**METHOD2:**"
      ],
      "metadata": {
        "id": "_SFD7Dh-jPCZ"
      }
    },
    {
      "cell_type": "code",
      "source": [
        "population_std=0.2\n",
        "ps=population_std/np.sqrt(sample_size)\n",
        "T_value=stats.t.ppf(1 - alpha/2, df=sample_size-1)\n",
        "margin_error=T_value*ps\n",
        "confidence_interval=(sample_mean-margin_error,sample_mean+margin_error)\n",
        "print(confidence_interval)"
      ],
      "metadata": {
        "colab": {
          "base_uri": "https://localhost:8080/"
        },
        "id": "L68ePIvNjNhd",
        "outputId": "794d5b9d-7113-4c5c-821b-1b9465ffaa3b"
      },
      "execution_count": 9,
      "outputs": [
        {
          "output_type": "stream",
          "name": "stdout",
          "text": [
            "(np.float64(1.0849431688733762), np.float64(1.392390164459957))\n",
            "(np.float64(1.0849431688733762), np.float64(1.392390164459957))\n"
          ]
        }
      ]
    },
    {
      "cell_type": "code",
      "source": [
        "print(\"Confidence interval using known population standard deviation:\",confidence_interval)"
      ],
      "metadata": {
        "colab": {
          "base_uri": "https://localhost:8080/"
        },
        "id": "xww5j_hFjqy6",
        "outputId": "12a34311-0711-415f-d2fe-4dad151e3ed6"
      },
      "execution_count": 11,
      "outputs": [
        {
          "output_type": "stream",
          "name": "stdout",
          "text": [
            "Confidence interval using known population standard deviation: (np.float64(1.0849431688733762), np.float64(1.392390164459957))\n"
          ]
        }
      ]
    },
    {
      "cell_type": "code",
      "source": [],
      "metadata": {
        "id": "DV0c5wYSj3Nq"
      },
      "execution_count": null,
      "outputs": []
    }
  ]
}